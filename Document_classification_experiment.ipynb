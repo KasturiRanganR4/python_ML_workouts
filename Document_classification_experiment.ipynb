{
  "nbformat": 4,
  "nbformat_minor": 0,
  "metadata": {
    "colab": {
      "name": "Document_classification_experiment.ipynb",
      "version": "0.3.2",
      "provenance": [],
      "collapsed_sections": [],
      "include_colab_link": true
    },
    "kernelspec": {
      "name": "python3",
      "display_name": "Python 3"
    }
  },
  "cells": [
    {
      "cell_type": "markdown",
      "metadata": {
        "id": "view-in-github",
        "colab_type": "text"
      },
      "source": [
        "<a href=\"https://colab.research.google.com/github/KasturiRanganR4/python_ML_workouts/blob/master/Document_classification_experiment.ipynb\" target=\"_parent\"><img src=\"https://colab.research.google.com/assets/colab-badge.svg\" alt=\"Open In Colab\"/></a>"
      ]
    },
    {
      "cell_type": "code",
      "metadata": {
        "id": "Sp7KsReF_Mf0",
        "colab_type": "code",
        "outputId": "073f7076-6a36-4a85-949c-e937fd007559",
        "colab": {
          "base_uri": "https://localhost:8080/",
          "height": 142
        }
      },
      "source": [
        "import pandas as pd\n",
        "from sklearn.feature_extraction.text import CountVectorizer\n",
        "#corpus = ['This is the first document.','This is the second document.','And the third one. One is fun.'] #normal\n",
        "#corpus = ['ನಾನು ರಾಮ್.','ರಾಮ್ ಹಾಲು ಕುಡಿಯುತ್ತಾನೆ.','ಕಸ್ತೂರಿ ನಿವಾಸ ಸೂಪರ್ ಮೂವಿ.'] # it wont works normally.\n",
        "corpus = ['Kastūri nivāsa sūpar mūvi.','Nānu rām.','Rām hālu kuḍiyuttāne.'] #machine transliteration works fine.\n",
        "#Ram drinks milk, 'I am a ram.', Kasturi Resident Super Movie....... # this Machine translation too works good.\n",
        "cv = CountVectorizer()\n",
        "X = cv.fit_transform(corpus) # To get term count in each document\n",
        "pd.DataFrame(X.toarray(),columns=cv.get_feature_names()) #To get Document-term matrix "
      ],
      "execution_count": 31,
      "outputs": [
        {
          "output_type": "execute_result",
          "data": {
            "text/html": [
              "<div>\n",
              "<style scoped>\n",
              "    .dataframe tbody tr th:only-of-type {\n",
              "        vertical-align: middle;\n",
              "    }\n",
              "\n",
              "    .dataframe tbody tr th {\n",
              "        vertical-align: top;\n",
              "    }\n",
              "\n",
              "    .dataframe thead th {\n",
              "        text-align: right;\n",
              "    }\n",
              "</style>\n",
              "<table border=\"1\" class=\"dataframe\">\n",
              "  <thead>\n",
              "    <tr style=\"text-align: right;\">\n",
              "      <th></th>\n",
              "      <th>hālu</th>\n",
              "      <th>kastūri</th>\n",
              "      <th>kuḍiyuttāne</th>\n",
              "      <th>mūvi</th>\n",
              "      <th>nivāsa</th>\n",
              "      <th>nānu</th>\n",
              "      <th>rām</th>\n",
              "      <th>sūpar</th>\n",
              "    </tr>\n",
              "  </thead>\n",
              "  <tbody>\n",
              "    <tr>\n",
              "      <th>0</th>\n",
              "      <td>0</td>\n",
              "      <td>1</td>\n",
              "      <td>0</td>\n",
              "      <td>1</td>\n",
              "      <td>1</td>\n",
              "      <td>0</td>\n",
              "      <td>0</td>\n",
              "      <td>1</td>\n",
              "    </tr>\n",
              "    <tr>\n",
              "      <th>1</th>\n",
              "      <td>0</td>\n",
              "      <td>0</td>\n",
              "      <td>0</td>\n",
              "      <td>0</td>\n",
              "      <td>0</td>\n",
              "      <td>1</td>\n",
              "      <td>1</td>\n",
              "      <td>0</td>\n",
              "    </tr>\n",
              "    <tr>\n",
              "      <th>2</th>\n",
              "      <td>1</td>\n",
              "      <td>0</td>\n",
              "      <td>1</td>\n",
              "      <td>0</td>\n",
              "      <td>0</td>\n",
              "      <td>0</td>\n",
              "      <td>1</td>\n",
              "      <td>0</td>\n",
              "    </tr>\n",
              "  </tbody>\n",
              "</table>\n",
              "</div>"
            ],
            "text/plain": [
              "   hālu  kastūri  kuḍiyuttāne  mūvi  nivāsa  nānu  rām  sūpar\n",
              "0     0        1            0     1       1     0    0      1\n",
              "1     0        0            0     0       0     1    1      0\n",
              "2     1        0            1     0       0     0    1      0"
            ]
          },
          "metadata": {
            "tags": []
          },
          "execution_count": 31
        }
      ]
    },
    {
      "cell_type": "code",
      "metadata": {
        "id": "p9vWzyGHKFQs",
        "colab_type": "code",
        "colab": {
          "base_uri": "https://localhost:8080/",
          "height": 102
        },
        "outputId": "7fdef43e-d4c5-4cb2-9e5e-fdae2353024d"
      },
      "source": [
        "# calculate the cosine similarity between all combinations of documents\n",
        "from itertools import combinations\n",
        "from sklearn.metrics.pairwise import cosine_similarity\n",
        "\n",
        "# list all of the combinations of 3 take 2 as well as the pairs of phrases\n",
        "pairs = list(combinations(range(len(corpus)),2))\n",
        "print(pairs)\n",
        "combos = [(corpus[a_index], corpus[b_index]) for (a_index, b_index) in pairs]\n",
        "print(combos)\n",
        "\n",
        "# calculate the cosine similarity for all pairs of phrases and sort by most similar\n",
        "results = [cosine_similarity(X[a_index], X[b_index]) for (a_index, b_index) in pairs]\n",
        " \n",
        "sorted(zip(results, combos), reverse=True) #reverse=true makes to order in descending order.."
      ],
      "execution_count": 32,
      "outputs": [
        {
          "output_type": "stream",
          "text": [
            "[(0, 1), (0, 2), (1, 2)]\n",
            "[('Kastūri nivāsa sūpar mūvi.', 'Nānu rām.'), ('Kastūri nivāsa sūpar mūvi.', 'Rām hālu kuḍiyuttāne.'), ('Nānu rām.', 'Rām hālu kuḍiyuttāne.')]\n"
          ],
          "name": "stdout"
        },
        {
          "output_type": "execute_result",
          "data": {
            "text/plain": [
              "[(array([[0.40824829]]), ('Nānu rām.', 'Rām hālu kuḍiyuttāne.')),\n",
              " (array([[0.]]), ('Kastūri nivāsa sūpar mūvi.', 'Rām hālu kuḍiyuttāne.')),\n",
              " (array([[0.]]), ('Kastūri nivāsa sūpar mūvi.', 'Nānu rām.'))]"
            ]
          },
          "metadata": {
            "tags": []
          },
          "execution_count": 32
        }
      ]
    }
  ]
}